{
  "nbformat": 4,
  "nbformat_minor": 0,
  "metadata": {
    "colab": {
      "provenance": [],
      "mount_file_id": "1W15FDrZreP44bjjG5HHKxGV6KgftvgAv",
      "authorship_tag": "ABX9TyM6rtFvMp4p8AhqFbZ57IJH",
      "include_colab_link": true
    },
    "kernelspec": {
      "name": "python3",
      "display_name": "Python 3"
    },
    "language_info": {
      "name": "python"
    }
  },
  "cells": [
    {
      "cell_type": "markdown",
      "metadata": {
        "id": "view-in-github",
        "colab_type": "text"
      },
      "source": [
        "<a href=\"https://colab.research.google.com/github/EchigoyaR/EchigoyaR/blob/main/hakkason.ipynb\" target=\"_parent\"><img src=\"https://colab.research.google.com/assets/colab-badge.svg\" alt=\"Open In Colab\"/></a>"
      ]
    },
    {
      "cell_type": "code",
      "source": [
        "#スラックのインストール\n",
        "!pip install slackbot\n"
      ],
      "metadata": {
        "id": "2Gj3PbR74E-1"
      },
      "execution_count": null,
      "outputs": []
    },
    {
      "cell_type": "code",
      "source": [],
      "metadata": {
        "id": "6SSYT_oM4F9y"
      },
      "execution_count": null,
      "outputs": []
    },
    {
      "cell_type": "code",
      "execution_count": 31,
      "metadata": {
        "id": "baas1FC_ihH-",
        "colab": {
          "base_uri": "https://localhost:8080/"
        },
        "outputId": "cc617388-45bf-418e-9f5d-78c4cac3e2dd"
      },
      "outputs": [
        {
          "output_type": "stream",
          "name": "stdout",
          "text": [
            "hourを入力:13\n",
            "minを入力:3\n",
            "secを入力:30\n",
            "memoを入力：お昼ご飯\n",
            "13時間3分30秒:memo:お昼ご飯\n",
            "大丈夫なら→ok：ok\n",
            "[13, 3, 15]\n"
          ]
        }
      ],
      "source": [
        "#完成品\n",
        "\n",
        "\n",
        "#slack側の設定\n",
        "import requests\n",
        "import json\n",
        "\n",
        "#CSVファイルの作成と書き込みの設定\n",
        "import csv\n",
        "import pprint\n",
        "\n",
        "#time関数の設定\n",
        "from time import sleep\n",
        "import time\n",
        "\n",
        "#タイマーセット！！！！！！！\n",
        "#入力する関数\n",
        "def hms_input(name, time):\n",
        "    hms = input(name +\"を入力:\")\n",
        "    if hms.isdigit():\n",
        "      if int(hms) > time :\n",
        "        print(\"時間が正しくありません\")\n",
        "        return hms_input(name,time)\n",
        "      else:\n",
        "        return hms\n",
        "    else:\n",
        "      print(\"数字でお願いします\")\n",
        "      return hms_input(name,time)\n",
        "list_text = []\n",
        "\n",
        "ok = \"\"\n",
        "while ok != \"ok\":\n",
        "  h = hms_input(\"hour\", 24)\n",
        "  m= hms_input(\"min\", 60)\n",
        "  s= hms_input(\"sec\", 60)\n",
        "  memo = input(\"memoを入力：\")\n",
        "  print(f\"{h}時間{m}分{s}秒:memo:{memo}\")\n",
        "  ok = input(\"大丈夫なら→ok：\")\n",
        "\n",
        "list_text.append([h,m,s,memo])\n",
        "\n",
        "#--------------------------------------------------\n",
        "#現在時刻の取得\n",
        "now_lists = []\n",
        "now_int_lists = []\n",
        "now = time.strftime('%H,%M,%S')\n",
        "\n",
        "now_lists = now.split(\",\")#それぞれ時間、分、秒に分ける\n",
        "\n",
        "for i in range(len(now_lists)):\n",
        "  now_int_lists.append(int(now_lists[i]))\n",
        "now_int_lists[0] += 9#日本時間にする\n",
        "print(now_int_lists)\n",
        "#------------------------------------------------\n",
        "#CSVに内容を書き込む\n",
        "with open('note.csv', 'a', encoding=\"utf-8\", newline=\"\") as csv_file:\n",
        "    fieldnames = ['h','m','s', 'memo']\n",
        "    writer = csv.DictWriter(csv_file, fieldnames=fieldnames)\n",
        "    for line in list_text:\n",
        "        writer.writerow({'h': line[0], 'm': line[1], 's': line[2], 'memo': line[3]})\n",
        "csv_file.close()\n",
        "\n",
        "lists = []#最新のタイマー情報を入力\n",
        "\n",
        "# 送信するテキストをCSVから読み込む\n",
        "with open('note.csv', 'r', encoding=\"utf-8\") as f:\n",
        "  # 一行読む. 一行目はヘッダーだから結果は捨てる\n",
        "  f.readline()\n",
        "  # 全行読む\n",
        "  lines = f.readlines()\n",
        "  #最後一行（最新のもの）だけを読み込み、リストに格納\n",
        "  t = lines[-1:]\n",
        "\n",
        "  y = t[0]\n",
        "  lists = y.split(\",\")\n",
        "\n",
        "  #秒の筆算\n",
        "  if (int(lists[2]) - now_int_lists[2]) < 0:\n",
        "    lists[1] = str(int(lists[1]) - 1)\n",
        "    lists[2] = str(int(lists[2]) + 60)\n",
        "\n",
        "  #分の筆算\n",
        "  if (int(lists[1]) - now_int_lists[1]) < 0:\n",
        "    lists[0] = str(int(lists[0]) - 1)\n",
        "    lists[1] = str(int(lists[1]) + 60)\n",
        "\n",
        "  h_time = int(lists[0]) - now_int_lists[0]\n",
        "  m_time = int(lists[1]) - now_int_lists[1]\n",
        "  s_time = int(lists[2]) - now_int_lists[2]\n",
        "\n",
        "  text = \"時間です：\" + lists.pop(-1)\n",
        "\n",
        "f.close()\n",
        "\n",
        "#---------------------------------\n",
        "# webhookURLを指定\n",
        "#webhook_url = \"\"#スラックから簡単に取得できるからやってみてね\n",
        "\n",
        "\n",
        "#ごり押しタイマー起動\n",
        "def up_timer(h,m,s):\n",
        "  for hour in range(0,h):\n",
        "      for min in range(0,60):\n",
        "        for sec in range(0 ,60):\n",
        "          sleep(1)\n",
        "  for min in range(0,m):\n",
        "      for sec in range(0 ,60):\n",
        "        sleep(1)\n",
        "  for sec in range(0 ,s):\n",
        "        sleep(1)\n",
        "  # Slackに送信する\n",
        "  requests.post(webhook_url, data = json.dumps({\"text\": text}));\n",
        "\n",
        "up_timer(h_time, m_time, s_time)\n"
      ]
    }
  ]
}